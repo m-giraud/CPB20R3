{
 "cells": [
  {
   "cell_type": "code",
   "execution_count": 1,
   "id": "fd48caa1-2f03-436e-a293-8bd050c03274",
   "metadata": {},
   "outputs": [],
   "source": [
    "import numpy as np\n",
    "import pickle\n",
    "from plotnine import *\n",
    "import pandas as pd \n"
   ]
  },
  {
   "cell_type": "code",
   "execution_count": 21,
   "id": "fe2a407f-e933-4e2b-9d1b-b15819a387c2",
   "metadata": {},
   "outputs": [],
   "source": [
    "wantST=True\n",
    "def getData(simDuration, condition,data,reps): #\n",
    "    addToName = repr(reps)+\"_\"+repr(simDuration)+\"_\"+condition\n",
    "    if data == \"Siev\" or data == \"Siag\":\n",
    "        clonamesAll = [\"maxTil\",\"maxB\", \"a\",\n",
    "                     \"lmax_r\", \"r_root\", \"ln_root\", \n",
    "                     \"lmax_stem\", \"r_stem\", \"ln_stem\", \n",
    "                     \"lmax_leaf\", \"r_leaf\", \"w_blade\",   \n",
    "                     'k_fw1','\\N{GREEK SMALL LETTER PSI}_t,crit,1',           \n",
    "                     'k_chl', 'k_g1','k_jmax', '\\u03B1',     \n",
    "                     '\\u03C9', 'g_ox,max', 'k_x'] \n",
    "        \n",
    "        directory = '../results/sobol_xylem/'\n",
    "        if data == \"Siev\":\n",
    "            variablesName = \"(A) Transpiration rate\"\n",
    "        if data == \"Siag\":\n",
    "            variablesName = \"(B) Assimilation rate\"\n",
    "    else:\n",
    "        clonamesAll = [\"maxTil\",\"maxB\", \"a\",\n",
    "                     \"lmax_r\", \"r_root\", \"ln_root\", \n",
    "                     \"lmax_stem\", \"r_stem\", \"ln_stem\", #\"ast\",\n",
    "                     \"lmax_leaf\", \"r_leaf\", \"width_blade\", \n",
    "                        'Q10','\\u0394\\u03C8_o,symplast','\\u03C8_p,crit,2',\n",
    "                      'Mout','F_in,max',\n",
    "                   '\\u03B2_meso',  'Mmeso','Y',\n",
    "                     '\\u03C1s',\n",
    "                     'k_st',\n",
    "                      'Across',\n",
    "                      'km', \n",
    "                      \"k_starch\"]\n",
    "        directory = '../results/sobol_phloem/'\n",
    "        variablesName = \"(C) G_tot,CWlim\"\n",
    "    directory = directory + repr(simDuration) + condition +\"/\"\n",
    "    with open(directory + data+'_R'+addToName+'.pkl','rb') as f:\n",
    "        allS = pickle.load(f)\n",
    "        if wantST:\n",
    "            Siev = allS['ST']\n",
    "            Sievconf = allS['ST_conf']\n",
    "        else:\n",
    "            Siev = allS['S1']\n",
    "            Sievconf = allS['S1_conf']\n",
    "    df = pd.DataFrame(np.array([Siev]), columns =clonamesAll)\n",
    "    df_conf = pd.DataFrame(np.array([Sievconf]), columns =clonamesAll)\n",
    "    dfmean = pd.DataFrame(data=df.mean(),columns=[\"mean\"])\n",
    "    dfmean[\"maxst\"] = (df + df_conf).max()\n",
    "    dfmean[\"minst\"] = (df - df_conf).min()\n",
    "    dfmean['variables']=dfmean.index\n",
    "    dfmeanEv21w = dfmean\n",
    "    if condition == \"wet\":\n",
    "        dfmeanEv21w['condition'] = \"baseline\"\n",
    "    else:\n",
    "        dfmeanEv21w['condition'] = \"dry spell\"\n",
    "    if simDuration == 18:\n",
    "        dfmeanEv21w['simDuration'] =  \"18d\"\n",
    "    else:\n",
    "        dfmeanEv21w['simDuration'] =  \"11d\"\n",
    "    dfmeanEv21w[\"variable\"] = variablesName\n",
    "    return dfmeanEv21w\n",
    "    \n"
   ]
  },
  {
   "cell_type": "code",
   "execution_count": 22,
   "id": "392b2f46-4a20-405c-8e5b-6590eae2184e",
   "metadata": {},
   "outputs": [],
   "source": [
    "def getAll4var(variable, reps):\n",
    "    df1 = getData(11 , \"wet\",variable,reps[0])\n",
    "    df2 = getData(11 , \"dry\",variable,reps[1])\n",
    "    df3 = getData(18, \"wet\",variable,reps[2])\n",
    "    df4 = getData(18, \"dry\",variable,reps[3])\n",
    "    dftt = pd.concat([df1, df2,df3,df4])\n",
    "    return dftt"
   ]
  },
  {
   "cell_type": "code",
   "execution_count": 23,
   "id": "54434b5f-6917-49f1-8bb4-c0db0f12a70a",
   "metadata": {},
   "outputs": [],
   "source": [
    "\n",
    "dftgr = getAll4var(\"Sigr\",[11,11,11,11])\n",
    "dftev = getAll4var(\"Siev\",[12,12,12,12])\n",
    "dftag = getAll4var(\"Siag\",[12,12,12,12])"
   ]
  },
  {
   "cell_type": "code",
   "execution_count": null,
   "id": "0364d0a7-cce6-4fa8-8447-981aa5a25d8b",
   "metadata": {},
   "outputs": [
    {
     "name": "stderr",
     "output_type": "stream",
     "text": [
      "/home/m.giraud/.conda/envs/py38b/lib/python3.8/site-packages/plotnine/layer.py:411: PlotnineWarning: geom_bar : Removed 3 rows containing missing values.\n",
      "/home/m.giraud/.conda/envs/py38b/lib/python3.8/site-packages/plotnine/layer.py:411: PlotnineWarning: geom_errorbar : Removed 242 rows containing missing values.\n"
     ]
    }
   ],
   "source": [
    "df3 = pd.concat([dftev, dftag,dftgr])\n",
    "\n",
    "df3['simDuration'] = df3['simDuration'].astype('category')\n",
    "df3['simDuration'] = df3['simDuration'].cat.reorder_categories(['11d', '18d'])\n",
    "df3['variables'] = pd.Categorical(df3['variables'].tolist(),    ordered=True)\n",
    "from plotnine import options\n",
    "options.figure_size = (35, 30)\n",
    "fig, plot =(\n",
    "    ggplot(df3)  # What data to use\n",
    "    + aes(x='variables', y= \"mean\",  fill=\"condition\" )  # What variable to use\n",
    "    + geom_bar(stat = \"identity\",position=position_dodge(width=1))  # Geometric object to use for drawing\n",
    "    + xlab(\"Parameters\")\n",
    "    + ylim(0,0.6)\n",
    "    + facet_grid(\"simDuration~variable\", scales = \"free\", space = \"free\")\n",
    "    + geom_errorbar(aes(ymin=\"minst\", ymax=\"maxst\"),position=position_dodge(width=1),width=.2) \n",
    "    + ylab(\"Total Sobol sensitivity index\")\n",
    "    + scale_fill_manual(name=\"\",\n",
    "                     values = [\"#FC8D62\",\"#8DA0CB\"])\n",
    "    +theme(legend_text = element_text( size=25),\n",
    "        legend_title = element_text( size=25),\n",
    "        panel_border = element_rect(color = \"black\", fill = \"white\", size = 1), \n",
    "        legend_position= [0.3,0.05],\n",
    "        #legend.direction = \"horizontal\",\n",
    "        legend_box = \"vertical\",\n",
    "        panel_grid_minor = element_line(colour=\"white\"),\n",
    "        panel_grid_major = element_line(colour=\"white\"),\n",
    "        panel_background = element_rect(fill= \"white\", color=\"black\"),\n",
    "        strip_text_y =element_text( size=25) ,\n",
    "        axis_text_x =element_text(angle = 90, size=20) ,\n",
    "        axis_text = element_text( size=20),\n",
    "        axis_title = element_text( size=25),\n",
    "        strip_background = element_rect(fill=\"white\"),\n",
    "        strip_text = element_text(size = 25, hjust = 0,face =\"bold\")) \n",
    ").draw(show=True, return_ggplot=True)\n",
    "fig.savefig('sensitivity.png', dpi=600)\n"
   ]
  },
  {
   "cell_type": "code",
   "execution_count": null,
   "id": "6297030a-2333-43bc-8806-9b8280ccb9d1",
   "metadata": {},
   "outputs": [],
   "source": []
  }
 ],
 "metadata": {
  "kernelspec": {
   "display_name": "py38b",
   "language": "python",
   "name": "py38b"
  },
  "language_info": {
   "codemirror_mode": {
    "name": "ipython",
    "version": 3
   },
   "file_extension": ".py",
   "mimetype": "text/x-python",
   "name": "python",
   "nbconvert_exporter": "python",
   "pygments_lexer": "ipython3",
   "version": "3.8.15"
  }
 },
 "nbformat": 4,
 "nbformat_minor": 5
}
