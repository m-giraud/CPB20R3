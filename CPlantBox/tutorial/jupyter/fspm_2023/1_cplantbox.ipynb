{
 "cells": [
  {
   "cell_type": "code",
   "execution_count": 16,
   "id": "0765868e",
   "metadata": {},
   "outputs": [],
   "source": [
    "import os\n",
    "\n",
    "#is the notebook running on Colab?\n",
    "if 'COLAB_JUPYTER_TRANSPORT' in os.environ.keys():\n",
    "    isColab = True\n",
    "    sourcedir =os.getcwd()+ \"/CPlantBox\"\n",
    "    filedir = sourcedir +\"/tutorial/jupyter/fspm_2023\"\n",
    "else:\n",
    "    isColab = False\n",
    "    sourcedir = os.getcwd()+\"/../../..\"\n",
    "    filedir = os.getcwd()\n",
    "#this can take some minutes    \n",
    "if isColab:\n",
    "    # downloading the source code\n",
    "    ! git clone https://github.com/Plant-Root-Soil-Interactions-Modelling/CPlantBox --depth=1 --single-branch -b fspm2023\n",
    "    os.chdir(sourcedir)\n",
    "    !apt install libeigen3-dev\n",
    "    ! apt install llvm-dev\n",
    "    !pip3 install vtk\n",
    "    !sudo DEBIAN_FRONTEND=noninteractive apt-get install -yq xvfb\n",
    "    !pip install -q 'xvfbwrapper~=0.2.9'\n",
    "    if 'vdisplay' not in globals():\n",
    "        # start a virtual X display for MAGICAL rendering\n",
    "        import xvfbwrapper\n",
    "        vdisplay = xvfbwrapper.Xvfb()\n",
    "        vdisplay.start()\n",
    "    os.environ[\"CUDA_VISIBLE_DEVICES\"] = \"1\"\n",
    "    ! git pull\n",
    "    ! cmake .\n",
    "    ! make\n",
    "    os.chdir(filedir)"
   ]
  },
  {
   "cell_type": "markdown",
   "id": "b969a136",
   "metadata": {},
   "source": [
    "# FSPM - 2023"
   ]
  },
  {
   "cell_type": "code",
   "execution_count": 17,
   "id": "de561c3e",
   "metadata": {},
   "outputs": [],
   "source": [
    "import sys; sys.path.append(sourcedir); sys.path.append(sourcedir+\"/src\")\n",
    "import importlib\n",
    "import plantbox as pb\n",
    "import visualisation.vtk_plot as vp # for quick 3d vizualisations\n",
    "import matplotlib.pyplot as plt # for 2d plots\n",
    "import numpy as np"
   ]
  },
  {
   "cell_type": "markdown",
   "id": "170c3976",
   "metadata": {},
   "source": [
    "## 1. Simulate a root system"
   ]
  },
  {
   "cell_type": "code",
   "execution_count": 18,
   "id": "aa1f2a2e",
   "metadata": {},
   "outputs": [],
   "source": [
    "# Create instance describing a root system\n",
    "rs = pb.RootSystem()\n",
    "verbose = False\n",
    "# Open plant and root parameter from a file\n",
    "path = \"../../../modelparameter/structural/rootsystem/\"\n",
    "name = \"Anagallis_femina_Leitner_2010\"\n",
    "rs.readParameters(path + name + \".xml\")\n",
    "\n",
    "# Simulate\n",
    "rs.initialize(verbose) \n",
    "rs.simulate(30,verbose) # [days]\n",
    "\n",
    "# Export\n",
    "rs.write(\"first_example.vtp\") # for Paraview\n",
    "rs.write(\"first_example.rsml\") # e.g. gui/viewer/rsml_viewer.py\n",
    "\n",
    "# Visualize\n",
    "#print(rs, \"creationTime\",not isColab)\n",
    "_ = vp.plot_roots(rs, \"creationTime\", interactiveImage = not isColab) # Plot, using vtk (e.g. \"subType\")"
   ]
  },
  {
   "cell_type": "markdown",
   "id": "7685baaa",
   "metadata": {},
   "source": [
    "## 2. Post-processing (how to evaluate simulation results)\n",
    "\n",
    "Basically, there are two methods \n",
    "\n",
    "1. Using class *RootSystem* directly, parameter values are given per root (root system is represented as polylines).\n",
    "\n",
    "2. Using class *SegmentAnalyser*, which will consider all segments of the root system, parameter values are given per segment (root system is represented by nodes and segments)."
   ]
  },
  {
   "cell_type": "markdown",
   "id": "7361b23f",
   "metadata": {},
   "source": [
    "### 2.1 Root system length vs time"
   ]
  },
  {
   "cell_type": "markdown",
   "id": "eb87e5ce",
   "metadata": {},
   "source": [
    "A typical simulation loop will look like"
   ]
  },
  {
   "cell_type": "code",
   "execution_count": 19,
   "id": "d66e5fe4",
   "metadata": {},
   "outputs": [],
   "source": [
    "rs = pb.RootSystem()\n",
    "path = \"../../../modelparameter/structural/rootsystem/\"\n",
    "name = \"Zea_mays_1_Leitner_2010\"\n",
    "rs.readParameters(path + name + \".xml\")\n",
    "rs.setGeometry(pb.SDF_PlantBox(1.e6,1.e6,1.e6)) \n",
    "verbose = False\n",
    "rs.initialize(verbose)\n",
    "\n",
    "\"\"\" Simulation loop \"\"\"\n",
    "simtime = 60.  # final simulation time [day]\n",
    "dt = 1. # time step [day]\n",
    "N = round(simtime / dt)  # number of iterations\n",
    "\n",
    "for i in range(0, N):\n",
    "    \n",
    "    # Coupling to plant functional models or soil     \n",
    "    \n",
    "    rs.simulate(dt, verbose)\n",
    "    \n",
    "    # Coupling to plant functional models or soil \n",
    "    \n",
    "    # Code for post-processing per time step (e.g. store relevant information in a list)\n",
    "    \n",
    "\n",
    "# Code for post-processing of the final result (write relevant results, e.g. csv, xls, etc.)\n",
    "_  = vp.plot_roots(rs, \"subType\",interactiveImage = not isColab) # Plot, using vtk"
   ]
  },
  {
   "cell_type": "markdown",
   "id": "c8c33d34",
   "metadata": {},
   "source": [
    "The following example will plot length versus time for the root system, and each subType (see *example2d_length.py*"
   ]
  },
  {
   "cell_type": "code",
   "execution_count": 20,
   "id": "2ab819d2",
   "metadata": {},
   "outputs": [
    {
     "data": {
      "image/png": "[encoded data removed]",
      "text/plain": [
       "<Figure size 432x288 with 1 Axes>"
      ]
     },
     "metadata": {
      "needs_background": "light"
     },
     "output_type": "display_data"
    },
    {
     "name": "stdout",
     "output_type": "stream",
     "text": [
      "final tap root length:  88.9242875855745 cm\n"
     ]
    }
   ],
   "source": [
    "rs.initialize() # reset above simulation\n",
    "scalar_type = \"length\" # \"surface\", \"volume\"\n",
    "v_, v1_, v2_, v3_, v4_ = np.zeros(N), np.zeros(N), np.zeros(N), np.zeros(N), np.zeros(N)\n",
    "\n",
    "\"\"\" Simulation loop \"\"\"\n",
    "for i in range(0, N):\n",
    "    rs.simulate(dt)\n",
    "    t = np.array(rs.getParameter(\"subType\")) # value per root\n",
    "    v = np.array(rs.getParameter(scalar_type)) # all random or specific parameters are accessible\n",
    "    v_[i] = np.sum(v)\n",
    "    v1_[i] = np.sum(v[t == 1])\n",
    "    v2_[i] = np.sum(v[t == 2])\n",
    "    v3_[i] = np.sum(v[t == 3])\n",
    "    v4_[i] = np.sum(v[t == 4])\n",
    "    \n",
    "t_ = np.linspace(dt, N * dt, N)\n",
    "plt.plot(t_, v_, t_, v1_, t_, v2_, t_, v3_, t_, v4_)\n",
    "plt.xlabel(\"time (days)\")\n",
    "plt.ylabel(scalar_type + \" (cm)\")\n",
    "plt.legend([\"total\", \"tap root\", \"lateral\", \"2nd order lateral\", \"basal roots\"])\n",
    "# plt.savefig(\"myplot.png\") # we could save it as png\n",
    "plt.show()\n",
    "print(\"final tap root length: \", v1_[-1], \"cm\")"
   ]
  },
  {
   "cell_type": "markdown",
   "id": "93c56759",
   "metadata": {},
   "source": [
    "## 2.2 Analyse results from the class *SegmentAnalyser* (values per segment) in a loop\n",
    "\n",
    "The main functionality of the *SegmentAnalyser* class is:\n",
    "* *getParameter(name)* as for *RootSystem* class, but returning a value for each segment, especially the \"creationTime\" of each segment\n",
    "* *filter(name, min, max)* will keep only segments where the value of parameter *name* is within [min, max]\n",
    "* *crop(sdf)* will keep only segments inside a geometry (e.g. in a soil core), segments intersecting the domain boundary are cut. \n",
    "* *distribution(...)* will create a 1d plot versus depth, where parameters are summed in layers \n",
    "* *distribution2d(...)* as above but 2d\n",
    "* *mapPeriodic(length, width)* maps the unconstrained root system into a periodic domain\n",
    "* *addData(name, data)* attach user data to the segments (e.g. simulation results for visualization or export)\n",
    "\n",
    "Note that *SegmentAnalyser* is only loosly connected to the original simulation.\n",
    "\n",
    "The first example shows how to obtain a depth distribution (values per segment) in a simulation loop."
   ]
  },
  {
   "cell_type": "code",
   "execution_count": 21,
   "id": "64841be1",
   "metadata": {},
   "outputs": [
    {
     "data": {
      "image/png": "[encoded data removed]",
      "text/plain": [
       "<Figure size 432x288 with 1 Axes>"
      ]
     },
     "metadata": {
      "needs_background": "light"
     },
     "output_type": "display_data"
    }
   ],
   "source": [
    "s = pb.RootSystem()\n",
    "path = \"../../../modelparameter/structural/rootsystem/\"\n",
    "name = \"Lupinus_albus_Leitner_2014\"\n",
    "rs.readParameters(path + name + \".xml\")\n",
    "rs.setGeometry(pb.SDF_PlantBox(1.e6,1.e6,1.e6)) \n",
    "verbose = False\n",
    "rs.initialize(verbose)\n",
    "\n",
    "simtimes = [0,10,20,40,60] # day\n",
    "dt_ = np.diff(simtimes) # day\n",
    "depth = 50 # cm\n",
    "layers = 60 # [1]\n",
    "\n",
    "\"\"\" Simulation loop \"\"\"\n",
    "rsd_ = []\n",
    "for dt in dt_:    \n",
    "    rs.simulate(dt,verbose)\n",
    "    ana = pb.SegmentAnalyser(rs) # create a SegmentAnalyser object\n",
    "    rsd = ana.distribution(\"surface\", 0., -depth, layers, True)\n",
    "    rsd_.append(rsd) # store relevant data in a list\n",
    "\n",
    "\"\"\" vizualize rld_ \"\"\"\n",
    "soilvolume = (depth / layers) * 10 * 10\n",
    "rsd_ = np.array(rsd_) / soilvolume  # convert to density [cm2/cm3]\n",
    "\n",
    "z_ = np.linspace(0, -depth, layers)  # z - axis\n",
    "for i, t in enumerate(simtimes[1:]):\n",
    "    plt.plot(rsd_[i,:], z_, label = \"at time \"+str(t))\n",
    "\n",
    "plt.xlabel(\"root surface (cm^2 / cm^3)\")\n",
    "plt.ylabel(\"z-coordinate (cm)\")\n",
    "plt.legend()\n",
    "# plt.savefig(\"surface_density.png\")\n",
    "plt.show()\n",
    "_ = vp.plot_roots(rs, \"subType\",interactiveImage = not isColab) # final result"
   ]
  },
  {
   "cell_type": "markdown",
   "id": "f393ae31",
   "metadata": {},
   "source": [
    "## 3. Simulate a full plant"
   ]
  },
  {
   "cell_type": "markdown",
   "id": "9bbed2ec",
   "metadata": {},
   "source": [
    "The definition of full plants is similar to that of root systems. Only, there are new parameters to take into account."
   ]
  },
  {
   "cell_type": "code",
   "execution_count": 24,
   "id": "e9cb2965",
   "metadata": {},
   "outputs": [],
   "source": [
    "#create a plant from a parameter file\n",
    "plant = pb.Plant()\n",
    "path = \"../../../modelparameter/structural/plant/\"\n",
    "name = \"fspm2023\"\n",
    "plant.readParameters(path + name + \".xml\")\n",
    "\n",
    "# choose which organ parameters to overwrite\n",
    "adaptSeed = False #change seed parameter\n",
    "adaptRoot = False #change seed parameter\n",
    "adaptLeaf = False #change leaf parameter\n",
    "leafRadial = False #radial or not\n",
    "adaptStem = False #change stem parameters\n",
    "radialLeafShapeOptions = [\"long\",\"maple\", \"round\", \"flower\"]\n",
    "radialLeafShape = radialLeafShapeOptions[3]"
   ]
  },
  {
   "cell_type": "markdown",
   "id": "3c51346e",
   "metadata": {},
   "source": [
    "Within the seed parameters are defined the number of tillers and basal roots. Roots and stems are (among others) defined according to their maximal lengths, growth rate and the distance between two children organs (roots, stems or leaves growing out of the organ in question)."
   ]
  },
  {
   "cell_type": "code",
   "execution_count": 25,
   "id": "0e529774",
   "metadata": {},
   "outputs": [],
   "source": [
    "if adaptSeed:\n",
    "    srp = pb.SeedRandomParameter(plant)  # with default values\n",
    "    srp.firstTil = 0  # [day] first emergence of a tiller\n",
    "    srp.delayTil = 0  # [day] delay between the emergence of tillers\n",
    "    srp.maxTil = 20 # [-] number of tillers \n",
    "    srp.firstB = 0  # [day] first emergence of a tiller\n",
    "    srp.delayB = 0  # [day] delay between the emergence of tillers\n",
    "    srp.maxB = 20 # [-] number of tillers \n",
    "    plant.setOrganRandomParameter(srp)\n",
    "if adaptRoot:\n",
    "    for p in plant.getOrganRandomParameter(pb.root):#we go through the root subtypes\n",
    "        p.dxMin = 0.01 #resolution == minimum segment length\n",
    "        p.dx = 0.1 #resolution == maximum segment length\n",
    "        if p.subType == 1: #to which root subtype are the changes applied? Here: tap roots\n",
    "            p.r = 10  # [cm/day] growth rate\n",
    "            p.lmax = 20  # [cm] maximum length\n",
    "            p.ln = 1 # [cm] interlateral distance\n",
    "        plant.setOrganRandomParameter(p)\n",
    "if adaptStem:\n",
    "    for p in plant.getOrganRandomParameter(pb.stem):\n",
    "        p.dxMin = 0.01 #resolution == minimum segment length\n",
    "        p.dx = 0.1 #resolution == maximum segment length\n",
    "        p.r = 10  # [cm/day] growth rate\n",
    "        p.lmax = 20  # [cm] maximum length\n",
    "        p.ln = 1 # [cm] interlateral distance\n",
    "        plant.setOrganRandomParameter(p)"
   ]
  },
  {
   "cell_type": "markdown",
   "id": "63a68e0d",
   "metadata": {},
   "source": [
    "The leaf parameters can be adapted to represent different leaf 2D shapes. The 2D shapes can be defined according to the distance from the leaf center vain (non-radial geometry) or according to the distance from the leaf center (radial geometry).\n"
   ]
  },
  {
   "cell_type": "code",
   "execution_count": 26,
   "id": "f8b62e56",
   "metadata": {},
   "outputs": [],
   "source": [
    "if adaptLeaf:\n",
    "    for p in plant.getOrganRandomParameter(pb.leaf):\n",
    "        if leafRadial:\n",
    "            if radialLeafShape==\"long\":\n",
    "                p.lb =  1 # length of leaf stem\n",
    "                p.la,  p.lmax = 3.5, 8.5\n",
    "                p.areaMax = 10  # cm2, area reached when length = lmax\n",
    "                N = 100  # resolution of the leaf shape\n",
    "                phi = np.array([-90, -45, 0., 45, 90]) / 180. * np.pi\n",
    "                l = np.array([3, 2.2, 1.7, 2, 3.5]) #distance from leaf center\n",
    "\n",
    "            elif radialLeafShape == \"maple\":\n",
    "                p.lb =  1 # length of leaf stem\n",
    "                N = 100  # resolution of the leaf shape\n",
    "                p.areaMax = 50 \n",
    "                p.la,  p.lmax = 5, 11\n",
    "                phi = np.array([-90, -45, 0., 45,67.5,70, 90]) / 180. * np.pi\n",
    "                l = np.array([2, 2, 2, 4,1,1, 4]) #distance from leaf center\n",
    "\n",
    "            elif radialLeafShape == \"round\":\n",
    "                p.lb =  1 # length of leaf stem\n",
    "                N = 100  # resolution of the leaf shape\n",
    "                p.la,  p.lmax = 5, 11\n",
    "                p.areaMax = 3.145*(((p.lmax-p.la - p.lb)/2)**2)\n",
    "                phi = np.array([-90, -45, 0., 45,67.5,70, 90]) / 180. * np.pi\n",
    "                l_ = (p.lmax - p.lb - p.la)/2\n",
    "                l = np.array([l_ for x_i in range(len(phi))]) \n",
    "\n",
    "            elif radialLeafShape == \"flower\":\n",
    "                N = 100  # resolution of the leaf shape\n",
    "                p.areaMax = 100 \n",
    "                p.la, p.lb, p.lmax = 5, 1, 11\n",
    "                phi = np.array([-90., -67.5, -45, -22.5, 0, 22.5, 45, 67.5, 90]) / 180. * np.pi\n",
    "                l = np.array([5., 1, 5, 1, 5, 1, 5, 1, 5])\n",
    "\n",
    "            p.createLeafRadialGeometry(phi, l, N)   \n",
    "\n",
    "        else:\n",
    "            p.parametrisationType=1\n",
    "            p.lb =  2 # length of leaf sheath\n",
    "            p.la,  p.lmax = 3.5, 8.5\n",
    "            p.areaMax = 10  # cm2, area reached when length = lmax\n",
    "            N = 100  \n",
    "            y = np.array([-3, -2.1, 0., 2.45, 3.5])\n",
    "            l = np.array([0., 1.54, 1.7, 1.26, 0.])\n",
    "            p.createLeafGeometry(y, l, N)         \n",
    "\n",
    "\n",
    "        p.tropismT = 1 # 1: gravitropism\n",
    "        #p.tropismN = 5\n",
    "        #p.tropismS = 0.1\n",
    "        plant.setOrganRandomParameter(p)"
   ]
  },
  {
   "cell_type": "markdown",
   "id": "d161a6c4",
   "metadata": {},
   "source": [
    "CPlantBox offers the option to print several vtk files to create a video of the growth in Paraview. When running the simulation on Colab, it is possible to print images at regular intervals."
   ]
  },
  {
   "cell_type": "code",
   "execution_count": 28,
   "id": "6570fc00",
   "metadata": {
    "scrolled": true
   },
   "outputs": [
    {
     "name": "stdout",
     "output_type": "stream",
     "text": [
      "2D leaf shape of a full grown leaf\n",
      "no leaves created\n"
     ]
    }
   ],
   "source": [
    "verbose = False\n",
    "plant.initialize(verbose)\n",
    "# Simulate\n",
    "plant.simulate(30, verbose)\n",
    "# Plot, using vtk\n",
    "vp.plot_plant(plant, \"organType\",interactiveImage = not isColab)\n",
    "\n",
    "# zoom on one leaf--theoreticall 2D shape once fully grown\n",
    "leaves = plant.getOrgans(pb.leaf)\n",
    "if len(leaves)>0:\n",
    "    print(\"2D leaf shape of a full grown leaf\")\n",
    "    lorg = leaves[0]\n",
    "    lrp = lorg.getLeafRandomParameter()  \n",
    "    if leafRadial:\n",
    "        yy = np.linspace(0, lorg.leafLength(), N)\n",
    "        geom_x, geom_y = [],[]\n",
    "        for i, x in enumerate(lrp.leafGeometry):\n",
    "            geom_x.extend(x)\n",
    "            geom_y.extend([yy[i]] * len(x))\n",
    "        geom_x = np.array(geom_x)\n",
    "        geom_y = np.array(geom_y)        \n",
    "        a  = lorg.leafArea() / lorg.leafLength() # scale radius\n",
    "        plt.plot(geom_x * a, geom_y, \"g*\")\n",
    "        plt.plot(-geom_x * a, geom_y, \"g*\")\n",
    "\n",
    "    else:\n",
    "        geom_x_a =  np.array([0])\n",
    "        geom_x_b = np.array([ x[-1] for x in lrp.leafGeometry]) #normalized x value along length\n",
    "        geom_x = np.concatenate((geom_x_a,geom_x_b))\n",
    "        geom_y_a = np.array([0])\n",
    "        geom_y_b =np.linspace(lrp.lb, lorg.leafLength()+lrp.lb, len(geom_x_b))\n",
    "        geom_y = np.concatenate((geom_y_a,geom_y_b))\n",
    "        a  = lorg.leafArea() / lorg.leafLength() # scale radius\n",
    "        plt.plot(geom_x * a, geom_y, \"g-*\")\n",
    "        plt.plot(-geom_x * a, geom_y, \"g-*\")\n",
    "    plt.ylim([0, lrp.lmax+1])\n",
    "    plt.xlim([-a-1, a+1])\n",
    "    plt.axis('scaled')\n",
    "    plt.show()\n",
    "else:\n",
    "    print(\"no leaves created\")"
   ]
  }
 ],
 "metadata": {
  "kernelspec": {
   "display_name": "Python 3 (ipykernel)",
   "language": "python",
   "name": "python3"
  },
  "language_info": {
   "codemirror_mode": {
    "name": "ipython",
    "version": 3
   },
   "file_extension": ".py",
   "mimetype": "text/x-python",
   "name": "python",
   "nbconvert_exporter": "python",
   "pygments_lexer": "ipython3",
   "version": "3.8.10"
  },
  "latex_envs": {
   "LaTeX_envs_menu_present": true,
   "autoclose": false,
   "autocomplete": true,
   "bibliofile": "biblio.bib",
   "cite_by": "apalike",
   "current_citInitial": 1,
   "eqLabelWithNumbers": true,
   "eqNumInitial": 1,
   "hotkeys": {
    "equation": "Ctrl-E",
    "itemize": "Ctrl-I"
   },
   "labels_anchors": false,
   "latex_user_defs": false,
   "report_style_numbering": false,
   "user_envs_cfg": false
  }
 },
 "nbformat": 4,
 "nbformat_minor": 5
}
